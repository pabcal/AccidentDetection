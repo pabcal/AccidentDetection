{
  "cells": [
    {
      "cell_type": "code",
      "execution_count": null,
      "metadata": {
        "colab": {
          "base_uri": "https://localhost:8080/"
        },
        "id": "JcEOVylqEK8M",
        "outputId": "1974b656-fb9f-4f54-eaa9-3a65489356df"
      },
      "outputs": [
        {
          "name": "stdout",
          "output_type": "stream",
          "text": [
            "Requirement already satisfied: opencv-python-headless==4.12.0.88 in /usr/local/lib/python3.12/dist-packages (4.12.0.88)\n",
            "Requirement already satisfied: numpy<2.3.0,>=2 in /usr/local/lib/python3.12/dist-packages (from opencv-python-headless==4.12.0.88) (2.0.2)\n",
            "Requirement already satisfied: inference==0.51.10 in /usr/local/lib/python3.12/dist-packages (0.51.10)\n",
            "Requirement already satisfied: aiortc~=1.9.0 in /usr/local/lib/python3.12/dist-packages (from inference==0.51.10) (1.9.0)\n",
            "Requirement already satisfied: APScheduler<4.0.0,>=3.10.1 in /usr/local/lib/python3.12/dist-packages (from inference==0.51.10) (3.11.0)\n",
            "Requirement already satisfied: asyncua~=1.1.5 in /usr/local/lib/python3.12/dist-packages (from inference==0.51.10) (1.1.8)\n",
            "Requirement already satisfied: cachetools<6.0.0 in /usr/local/lib/python3.12/dist-packages (from inference==0.51.10) (5.5.2)\n",
            "Requirement already satisfied: cython~=3.0.0 in /usr/local/lib/python3.12/dist-packages (from inference==0.51.10) (3.0.12)\n",
            "Requirement already satisfied: python-dotenv~=1.0.0 in /usr/local/lib/python3.12/dist-packages (from inference==0.51.10) (1.0.1)\n",
            "Requirement already satisfied: fastapi<0.116,>=0.100 in /usr/local/lib/python3.12/dist-packages (from inference==0.51.10) (0.115.14)\n",
            "Requirement already satisfied: numpy<2.3.0,>=2.0.0 in /usr/local/lib/python3.12/dist-packages (from inference==0.51.10) (2.0.2)\n",
            "Requirement already satisfied: opencv-python<=4.10.0.84,>=4.8.1.78 in /usr/local/lib/python3.12/dist-packages (from inference==0.51.10) (4.10.0.84)\n",
            "Requirement already satisfied: opencv-contrib-python<=4.10.0.84,>=4.8.1.78 in /usr/local/lib/python3.12/dist-packages (from inference==0.51.10) (4.10.0.84)\n",
            "Requirement already satisfied: pillow<12.0,>=11.0 in /usr/local/lib/python3.12/dist-packages (from inference==0.51.10) (11.3.0)\n",
            "Requirement already satisfied: prometheus-fastapi-instrumentator<=6.0.0 in /usr/local/lib/python3.12/dist-packages (from inference==0.51.10) (6.0.0)\n",
            "Requirement already satisfied: redis~=5.0.0 in /usr/local/lib/python3.12/dist-packages (from inference==0.51.10) (5.0.8)\n",
            "Requirement already satisfied: requests<3.0.0,>=2.32.0 in /usr/local/lib/python3.12/dist-packages (from inference==0.51.10) (2.32.4)\n",
            "Requirement already satisfied: rich<13.10.0,>=13.0.0 in /usr/local/lib/python3.12/dist-packages (from inference==0.51.10) (13.9.4)\n",
            "Requirement already satisfied: supervision<0.26.0,>=0.25.1 in /usr/local/lib/python3.12/dist-packages (from inference==0.51.10) (0.25.1)\n",
            "Requirement already satisfied: pybase64~=1.0.0 in /usr/local/lib/python3.12/dist-packages (from inference==0.51.10) (1.0.2)\n",
            "Requirement already satisfied: scikit-image<=0.25.2,>=0.19.0 in /usr/local/lib/python3.12/dist-packages (from inference==0.51.10) (0.25.2)\n",
            "Requirement already satisfied: requests-toolbelt~=1.0.0 in /usr/local/lib/python3.12/dist-packages (from inference==0.51.10) (1.0.0)\n",
            "Requirement already satisfied: wheel<=0.45.1,>=0.38.1 in /usr/local/lib/python3.12/dist-packages (from inference==0.51.10) (0.45.1)\n",
            "Requirement already satisfied: setuptools>=70.0.0 in /usr/local/lib/python3.12/dist-packages (from inference==0.51.10) (75.2.0)\n",
            "Requirement already satisfied: networkx<4.0.0,>=3.0.0 in /usr/local/lib/python3.12/dist-packages (from inference==0.51.10) (3.5)\n",
            "Requirement already satisfied: pydantic<2.12.0,>=2.8.0 in /usr/local/lib/python3.12/dist-packages (from inference==0.51.10) (2.11.9)\n",
            "Requirement already satisfied: pydantic-settings<2.8 in /usr/local/lib/python3.12/dist-packages (from inference==0.51.10) (2.7.1)\n",
            "Requirement already satisfied: openai<2.0.0,>=1.12.0 in /usr/local/lib/python3.12/dist-packages (from inference==0.51.10) (1.108.0)\n",
            "Requirement already satisfied: structlog<25.0.0,>=24.1.0 in /usr/local/lib/python3.12/dist-packages (from inference==0.51.10) (24.4.0)\n",
            "Requirement already satisfied: zxing-cpp~=2.2.0 in /usr/local/lib/python3.12/dist-packages (from inference==0.51.10) (2.2.0)\n",
            "Requirement already satisfied: boto3<=1.35.60 in /usr/local/lib/python3.12/dist-packages (from inference==0.51.10) (1.35.60)\n",
            "Requirement already satisfied: typing_extensions<=4.12.2,>=4.8.0 in /usr/local/lib/python3.12/dist-packages (from inference==0.51.10) (4.12.2)\n",
            "Requirement already satisfied: pydot~=2.0.0 in /usr/local/lib/python3.12/dist-packages (from inference==0.51.10) (2.0.0)\n",
            "Requirement already satisfied: shapely<2.1.0,>=2.0.4 in /usr/local/lib/python3.12/dist-packages (from inference==0.51.10) (2.0.7)\n",
            "Requirement already satisfied: tldextract~=5.1.2 in /usr/local/lib/python3.12/dist-packages (from inference==0.51.10) (5.1.3)\n",
            "Requirement already satisfied: packaging~=24.0 in /usr/local/lib/python3.12/dist-packages (from inference==0.51.10) (24.2)\n",
            "Requirement already satisfied: anthropic~=0.49.0 in /usr/local/lib/python3.12/dist-packages (from inference==0.51.10) (0.49.0)\n",
            "Requirement already satisfied: pandas<3.0.0,>=2.2.3 in /usr/local/lib/python3.12/dist-packages (from inference==0.51.10) (2.3.2)\n",
            "Requirement already satisfied: paho-mqtt~=1.6.1 in /usr/local/lib/python3.12/dist-packages (from inference==0.51.10) (1.6.1)\n",
            "Requirement already satisfied: pytest<9.0.0,>=8.0.0 in /usr/local/lib/python3.12/dist-packages (from inference==0.51.10) (8.4.2)\n",
            "Requirement already satisfied: tokenizers<0.22.0,>=0.19.0 in /usr/local/lib/python3.12/dist-packages (from inference==0.51.10) (0.21.4)\n",
            "Requirement already satisfied: slack-sdk~=3.33.4 in /usr/local/lib/python3.12/dist-packages (from inference==0.51.10) (3.33.5)\n",
            "Requirement already satisfied: twilio~=9.3.7 in /usr/local/lib/python3.12/dist-packages (from inference==0.51.10) (9.3.8)\n",
            "Requirement already satisfied: httpx~=0.28.1 in /usr/local/lib/python3.12/dist-packages (from inference==0.51.10) (0.28.1)\n",
            "Requirement already satisfied: pylogix==1.0.5 in /usr/local/lib/python3.12/dist-packages (from inference==0.51.10) (1.0.5)\n",
            "Requirement already satisfied: pymodbus<=3.8.3,>=3.6.9 in /usr/local/lib/python3.12/dist-packages (from inference==0.51.10) (3.8.3)\n",
            "Requirement already satisfied: backoff~=2.2.0 in /usr/local/lib/python3.12/dist-packages (from inference==0.51.10) (2.2.1)\n",
            "Requirement already satisfied: filelock<=3.17.0,>=3.12.0 in /usr/local/lib/python3.12/dist-packages (from inference==0.51.10) (3.17.0)\n",
            "Requirement already satisfied: onvif-zeep-async==2.0.0 in /usr/local/lib/python3.12/dist-packages (from inference==0.51.10) (2.0.0)\n",
            "Requirement already satisfied: simple-pid~=2.0.1 in /usr/local/lib/python3.12/dist-packages (from inference==0.51.10) (2.0.1)\n",
            "Requirement already satisfied: onnxruntime<1.22.0,>=1.15.1 in /usr/local/lib/python3.12/dist-packages (from inference==0.51.10) (1.21.1)\n",
            "Requirement already satisfied: nvidia-ml-py<13.0.0 in /usr/local/lib/python3.12/dist-packages (from inference==0.51.10) (12.575.51)\n",
            "Requirement already satisfied: docker<8.0.0,>=7.0.0 in /usr/local/lib/python3.12/dist-packages (from inference==0.51.10) (7.1.0)\n",
            "Requirement already satisfied: click<8.2.0 in /usr/local/lib/python3.12/dist-packages (from inference==0.51.10) (8.1.8)\n",
            "Requirement already satisfied: typer<=0.16.0,>=0.9.0 in /usr/local/lib/python3.12/dist-packages (from inference==0.51.10) (0.16.0)\n",
            "Requirement already satisfied: PyYAML~=6.0.0 in /usr/local/lib/python3.12/dist-packages (from inference==0.51.10) (6.0.2)\n",
            "Requirement already satisfied: tqdm<5.0.0,>=4.0.0 in /usr/local/lib/python3.12/dist-packages (from inference==0.51.10) (4.67.1)\n",
            "Requirement already satisfied: py-cpuinfo~=9.0.0 in /usr/local/lib/python3.12/dist-packages (from inference==0.51.10) (9.0.0)\n",
            "Requirement already satisfied: aiohttp<=3.10.11,>=3.9.0 in /usr/local/lib/python3.12/dist-packages (from inference==0.51.10) (3.10.11)\n",
            "Requirement already satisfied: dataclasses-json~=0.6.0 in /usr/local/lib/python3.12/dist-packages (from inference==0.51.10) (0.6.7)\n",
            "Requirement already satisfied: zeep<5.0.0,>=4.2.1 in /usr/local/lib/python3.12/dist-packages (from zeep[async]<5.0.0,>=4.2.1->onvif-zeep-async==2.0.0->inference==0.51.10) (4.3.2)\n",
            "Requirement already satisfied: aiohappyeyeballs>=2.3.0 in /usr/local/lib/python3.12/dist-packages (from aiohttp<=3.10.11,>=3.9.0->inference==0.51.10) (2.6.1)\n",
            "Requirement already satisfied: aiosignal>=1.1.2 in /usr/local/lib/python3.12/dist-packages (from aiohttp<=3.10.11,>=3.9.0->inference==0.51.10) (1.4.0)\n",
            "Requirement already satisfied: attrs>=17.3.0 in /usr/local/lib/python3.12/dist-packages (from aiohttp<=3.10.11,>=3.9.0->inference==0.51.10) (25.3.0)\n",
            "Requirement already satisfied: frozenlist>=1.1.1 in /usr/local/lib/python3.12/dist-packages (from aiohttp<=3.10.11,>=3.9.0->inference==0.51.10) (1.7.0)\n",
            "Requirement already satisfied: multidict<7.0,>=4.5 in /usr/local/lib/python3.12/dist-packages (from aiohttp<=3.10.11,>=3.9.0->inference==0.51.10) (6.6.4)\n",
            "Requirement already satisfied: yarl<2.0,>=1.12.0 in /usr/local/lib/python3.12/dist-packages (from aiohttp<=3.10.11,>=3.9.0->inference==0.51.10) (1.20.1)\n",
            "Requirement already satisfied: aioice<1.0.0,>=0.9.0 in /usr/local/lib/python3.12/dist-packages (from aiortc~=1.9.0->inference==0.51.10) (0.10.1)\n",
            "Requirement already satisfied: av<13.0.0,>=9.0.0 in /usr/local/lib/python3.12/dist-packages (from aiortc~=1.9.0->inference==0.51.10) (12.3.0)\n",
            "Requirement already satisfied: cffi>=1.0.0 in /usr/local/lib/python3.12/dist-packages (from aiortc~=1.9.0->inference==0.51.10) (2.0.0)\n",
            "Requirement already satisfied: cryptography>=42.0.0 in /usr/local/lib/python3.12/dist-packages (from aiortc~=1.9.0->inference==0.51.10) (43.0.3)\n",
            "Requirement already satisfied: google-crc32c>=1.1 in /usr/local/lib/python3.12/dist-packages (from aiortc~=1.9.0->inference==0.51.10) (1.7.1)\n",
            "Requirement already satisfied: pyee>=9.0.0 in /usr/local/lib/python3.12/dist-packages (from aiortc~=1.9.0->inference==0.51.10) (13.0.0)\n",
            "Requirement already satisfied: pylibsrtp>=0.10.0 in /usr/local/lib/python3.12/dist-packages (from aiortc~=1.9.0->inference==0.51.10) (0.12.0)\n",
            "Requirement already satisfied: pyopenssl>=24.0.0 in /usr/local/lib/python3.12/dist-packages (from aiortc~=1.9.0->inference==0.51.10) (24.2.1)\n",
            "Requirement already satisfied: anyio<5,>=3.5.0 in /usr/local/lib/python3.12/dist-packages (from anthropic~=0.49.0->inference==0.51.10) (4.10.0)\n",
            "Requirement already satisfied: distro<2,>=1.7.0 in /usr/local/lib/python3.12/dist-packages (from anthropic~=0.49.0->inference==0.51.10) (1.9.0)\n",
            "Requirement already satisfied: jiter<1,>=0.4.0 in /usr/local/lib/python3.12/dist-packages (from anthropic~=0.49.0->inference==0.51.10) (0.11.0)\n",
            "Requirement already satisfied: sniffio in /usr/local/lib/python3.12/dist-packages (from anthropic~=0.49.0->inference==0.51.10) (1.3.1)\n",
            "Requirement already satisfied: tzlocal>=3.0 in /usr/local/lib/python3.12/dist-packages (from APScheduler<4.0.0,>=3.10.1->inference==0.51.10) (5.3.1)\n",
            "Requirement already satisfied: aiofiles in /usr/local/lib/python3.12/dist-packages (from asyncua~=1.1.5->inference==0.51.10) (24.1.0)\n",
            "Requirement already satisfied: aiosqlite in /usr/local/lib/python3.12/dist-packages (from asyncua~=1.1.5->inference==0.51.10) (0.21.0)\n",
            "Requirement already satisfied: python-dateutil in /usr/local/lib/python3.12/dist-packages (from asyncua~=1.1.5->inference==0.51.10) (2.9.0.post0)\n",
            "Requirement already satisfied: pytz in /usr/local/lib/python3.12/dist-packages (from asyncua~=1.1.5->inference==0.51.10) (2025.2)\n",
            "Requirement already satisfied: sortedcontainers in /usr/local/lib/python3.12/dist-packages (from asyncua~=1.1.5->inference==0.51.10) (2.4.0)\n",
            "Requirement already satisfied: botocore<1.36.0,>=1.35.60 in /usr/local/lib/python3.12/dist-packages (from boto3<=1.35.60->inference==0.51.10) (1.35.99)\n",
            "Requirement already satisfied: jmespath<2.0.0,>=0.7.1 in /usr/local/lib/python3.12/dist-packages (from boto3<=1.35.60->inference==0.51.10) (1.0.1)\n",
            "Requirement already satisfied: s3transfer<0.11.0,>=0.10.0 in /usr/local/lib/python3.12/dist-packages (from boto3<=1.35.60->inference==0.51.10) (0.10.4)\n",
            "Requirement already satisfied: marshmallow<4.0.0,>=3.18.0 in /usr/local/lib/python3.12/dist-packages (from dataclasses-json~=0.6.0->inference==0.51.10) (3.26.1)\n",
            "Requirement already satisfied: typing-inspect<1,>=0.4.0 in /usr/local/lib/python3.12/dist-packages (from dataclasses-json~=0.6.0->inference==0.51.10) (0.9.0)\n",
            "Requirement already satisfied: urllib3>=1.26.0 in /usr/local/lib/python3.12/dist-packages (from docker<8.0.0,>=7.0.0->inference==0.51.10) (2.5.0)\n",
            "Requirement already satisfied: starlette<0.47.0,>=0.40.0 in /usr/local/lib/python3.12/dist-packages (from fastapi<0.116,>=0.100->inference==0.51.10) (0.46.2)\n",
            "Requirement already satisfied: certifi in /usr/local/lib/python3.12/dist-packages (from httpx~=0.28.1->inference==0.51.10) (2025.8.3)\n",
            "Requirement already satisfied: httpcore==1.* in /usr/local/lib/python3.12/dist-packages (from httpx~=0.28.1->inference==0.51.10) (1.0.9)\n",
            "Requirement already satisfied: idna in /usr/local/lib/python3.12/dist-packages (from httpx~=0.28.1->inference==0.51.10) (3.10)\n",
            "Requirement already satisfied: h11>=0.16 in /usr/local/lib/python3.12/dist-packages (from httpcore==1.*->httpx~=0.28.1->inference==0.51.10) (0.16.0)\n",
            "Requirement already satisfied: coloredlogs in /usr/local/lib/python3.12/dist-packages (from onnxruntime<1.22.0,>=1.15.1->inference==0.51.10) (15.0.1)\n",
            "Requirement already satisfied: flatbuffers in /usr/local/lib/python3.12/dist-packages (from onnxruntime<1.22.0,>=1.15.1->inference==0.51.10) (25.2.10)\n",
            "Requirement already satisfied: protobuf in /usr/local/lib/python3.12/dist-packages (from onnxruntime<1.22.0,>=1.15.1->inference==0.51.10) (5.29.5)\n",
            "Requirement already satisfied: sympy in /usr/local/lib/python3.12/dist-packages (from onnxruntime<1.22.0,>=1.15.1->inference==0.51.10) (1.13.3)\n",
            "Requirement already satisfied: tzdata>=2022.7 in /usr/local/lib/python3.12/dist-packages (from pandas<3.0.0,>=2.2.3->inference==0.51.10) (2025.2)\n",
            "Requirement already satisfied: prometheus-client<1.0.0,>=0.8.0 in /usr/local/lib/python3.12/dist-packages (from prometheus-fastapi-instrumentator<=6.0.0->inference==0.51.10) (0.22.1)\n",
            "Requirement already satisfied: annotated-types>=0.6.0 in /usr/local/lib/python3.12/dist-packages (from pydantic<2.12.0,>=2.8.0->inference==0.51.10) (0.7.0)\n",
            "Requirement already satisfied: pydantic-core==2.33.2 in /usr/local/lib/python3.12/dist-packages (from pydantic<2.12.0,>=2.8.0->inference==0.51.10) (2.33.2)\n",
            "Requirement already satisfied: typing-inspection>=0.4.0 in /usr/local/lib/python3.12/dist-packages (from pydantic<2.12.0,>=2.8.0->inference==0.51.10) (0.4.1)\n",
            "Requirement already satisfied: pyparsing>=3 in /usr/local/lib/python3.12/dist-packages (from pydot~=2.0.0->inference==0.51.10) (3.2.4)\n",
            "Requirement already satisfied: iniconfig>=1 in /usr/local/lib/python3.12/dist-packages (from pytest<9.0.0,>=8.0.0->inference==0.51.10) (2.1.0)\n",
            "Requirement already satisfied: pluggy<2,>=1.5 in /usr/local/lib/python3.12/dist-packages (from pytest<9.0.0,>=8.0.0->inference==0.51.10) (1.6.0)\n",
            "Requirement already satisfied: pygments>=2.7.2 in /usr/local/lib/python3.12/dist-packages (from pytest<9.0.0,>=8.0.0->inference==0.51.10) (2.19.2)\n",
            "Requirement already satisfied: charset_normalizer<4,>=2 in /usr/local/lib/python3.12/dist-packages (from requests<3.0.0,>=2.32.0->inference==0.51.10) (3.4.3)\n",
            "Requirement already satisfied: markdown-it-py>=2.2.0 in /usr/local/lib/python3.12/dist-packages (from rich<13.10.0,>=13.0.0->inference==0.51.10) (4.0.0)\n",
            "Requirement already satisfied: scipy>=1.11.4 in /usr/local/lib/python3.12/dist-packages (from scikit-image<=0.25.2,>=0.19.0->inference==0.51.10) (1.16.2)\n",
            "Requirement already satisfied: imageio!=2.35.0,>=2.33 in /usr/local/lib/python3.12/dist-packages (from scikit-image<=0.25.2,>=0.19.0->inference==0.51.10) (2.37.0)\n",
            "Requirement already satisfied: tifffile>=2022.8.12 in /usr/local/lib/python3.12/dist-packages (from scikit-image<=0.25.2,>=0.19.0->inference==0.51.10) (2025.9.9)\n",
            "Requirement already satisfied: lazy-loader>=0.4 in /usr/local/lib/python3.12/dist-packages (from scikit-image<=0.25.2,>=0.19.0->inference==0.51.10) (0.4)\n",
            "Requirement already satisfied: contourpy>=1.0.7 in /usr/local/lib/python3.12/dist-packages (from supervision<0.26.0,>=0.25.1->inference==0.51.10) (1.3.3)\n",
            "Requirement already satisfied: defusedxml<0.8.0,>=0.7.1 in /usr/local/lib/python3.12/dist-packages (from supervision<0.26.0,>=0.25.1->inference==0.51.10) (0.7.1)\n",
            "Requirement already satisfied: matplotlib>=3.6.0 in /usr/local/lib/python3.12/dist-packages (from supervision<0.26.0,>=0.25.1->inference==0.51.10) (3.10.0)\n",
            "Requirement already satisfied: requests-file>=1.4 in /usr/local/lib/python3.12/dist-packages (from tldextract~=5.1.2->inference==0.51.10) (2.1.0)\n",
            "Requirement already satisfied: huggingface-hub<1.0,>=0.16.4 in /usr/local/lib/python3.12/dist-packages (from tokenizers<0.22.0,>=0.19.0->inference==0.51.10) (0.35.0)\n",
            "Requirement already satisfied: PyJWT<3.0.0,>=2.0.0 in /usr/local/lib/python3.12/dist-packages (from twilio~=9.3.7->inference==0.51.10) (2.10.1)\n",
            "Requirement already satisfied: aiohttp-retry==2.8.3 in /usr/local/lib/python3.12/dist-packages (from twilio~=9.3.7->inference==0.51.10) (2.8.3)\n",
            "Requirement already satisfied: shellingham>=1.3.0 in /usr/local/lib/python3.12/dist-packages (from typer<=0.16.0,>=0.9.0->inference==0.51.10) (1.5.4)\n",
            "Requirement already satisfied: dnspython>=2.0.0 in /usr/local/lib/python3.12/dist-packages (from aioice<1.0.0,>=0.9.0->aiortc~=1.9.0->inference==0.51.10) (2.8.0)\n",
            "Requirement already satisfied: ifaddr>=0.2.0 in /usr/local/lib/python3.12/dist-packages (from aioice<1.0.0,>=0.9.0->aiortc~=1.9.0->inference==0.51.10) (0.2.0)\n",
            "Requirement already satisfied: pycparser in /usr/local/lib/python3.12/dist-packages (from cffi>=1.0.0->aiortc~=1.9.0->inference==0.51.10) (2.23)\n",
            "Requirement already satisfied: fsspec>=2023.5.0 in /usr/local/lib/python3.12/dist-packages (from huggingface-hub<1.0,>=0.16.4->tokenizers<0.22.0,>=0.19.0->inference==0.51.10) (2025.3.0)\n",
            "Requirement already satisfied: hf-xet<2.0.0,>=1.1.3 in /usr/local/lib/python3.12/dist-packages (from huggingface-hub<1.0,>=0.16.4->tokenizers<0.22.0,>=0.19.0->inference==0.51.10) (1.1.10)\n",
            "Requirement already satisfied: mdurl~=0.1 in /usr/local/lib/python3.12/dist-packages (from markdown-it-py>=2.2.0->rich<13.10.0,>=13.0.0->inference==0.51.10) (0.1.2)\n",
            "Requirement already satisfied: cycler>=0.10 in /usr/local/lib/python3.12/dist-packages (from matplotlib>=3.6.0->supervision<0.26.0,>=0.25.1->inference==0.51.10) (0.12.1)\n",
            "Requirement already satisfied: fonttools>=4.22.0 in /usr/local/lib/python3.12/dist-packages (from matplotlib>=3.6.0->supervision<0.26.0,>=0.25.1->inference==0.51.10) (4.60.0)\n",
            "Requirement already satisfied: kiwisolver>=1.3.1 in /usr/local/lib/python3.12/dist-packages (from matplotlib>=3.6.0->supervision<0.26.0,>=0.25.1->inference==0.51.10) (1.4.9)\n",
            "Requirement already satisfied: six>=1.5 in /usr/local/lib/python3.12/dist-packages (from python-dateutil->asyncua~=1.1.5->inference==0.51.10) (1.17.0)\n",
            "Requirement already satisfied: mypy-extensions>=0.3.0 in /usr/local/lib/python3.12/dist-packages (from typing-inspect<1,>=0.4.0->dataclasses-json~=0.6.0->inference==0.51.10) (1.1.0)\n",
            "Requirement already satisfied: propcache>=0.2.1 in /usr/local/lib/python3.12/dist-packages (from yarl<2.0,>=1.12.0->aiohttp<=3.10.11,>=3.9.0->inference==0.51.10) (0.3.2)\n",
            "Requirement already satisfied: isodate>=0.5.4 in /usr/local/lib/python3.12/dist-packages (from zeep<5.0.0,>=4.2.1->zeep[async]<5.0.0,>=4.2.1->onvif-zeep-async==2.0.0->inference==0.51.10) (0.7.2)\n",
            "Requirement already satisfied: lxml>=4.6.0 in /usr/local/lib/python3.12/dist-packages (from zeep<5.0.0,>=4.2.1->zeep[async]<5.0.0,>=4.2.1->onvif-zeep-async==2.0.0->inference==0.51.10) (5.4.0)\n",
            "Requirement already satisfied: platformdirs>=1.4.0 in /usr/local/lib/python3.12/dist-packages (from zeep<5.0.0,>=4.2.1->zeep[async]<5.0.0,>=4.2.1->onvif-zeep-async==2.0.0->inference==0.51.10) (4.4.0)\n",
            "Requirement already satisfied: humanfriendly>=9.1 in /usr/local/lib/python3.12/dist-packages (from coloredlogs->onnxruntime<1.22.0,>=1.15.1->inference==0.51.10) (10.0)\n",
            "Requirement already satisfied: mpmath<1.4,>=1.1.0 in /usr/local/lib/python3.12/dist-packages (from sympy->onnxruntime<1.22.0,>=1.15.1->inference==0.51.10) (1.3.0)\n"
          ]
        }
      ],
      "source": []
    },
    {
      "cell_type": "code",
      "execution_count": null,
      "metadata": {
        "id": "e-Wb8PBMFgEg"
      },
      "outputs": [
        {
          "ename": "",
          "evalue": "",
          "output_type": "error",
          "traceback": [
            "\u001b[1;31mRunning cells with '.venv (Python 3.12.4)' requires the ipykernel package.\n",
            "\u001b[1;31mInstall 'ipykernel' into the Python environment. \n",
            "\u001b[1;31mCommand: 'c:/Users/pepeg/Documents/program/AccidentDetection/.venv/Scripts/python.exe -m pip install ipykernel -U --force-reinstall'"
          ]
        }
      ],
      "source": [
        "\n",
        "from inference.models.utils import get_roboflow_model\n",
        "import cv2\n"
      ]
    },
    {
      "cell_type": "code",
      "execution_count": 13,
      "metadata": {
        "id": "2BZOuwH5EkYw"
      },
      "outputs": [],
      "source": [
        "model_name = \"amazon-accident-detection-o3juo\"\n",
        "model_version = \"3\"\n",
        "api_key = \"ktSFVMakkE69oahKbqtv\""
      ]
    },
    {
      "cell_type": "code",
      "execution_count": 14,
      "metadata": {
        "colab": {
          "base_uri": "https://localhost:8080/"
        },
        "id": "MsG1IyU5Em9l",
        "outputId": "8e00904c-4da9-4ca8-c577-e5cb1094eab1"
      },
      "outputs": [
        {
          "name": "stderr",
          "output_type": "stream",
          "text": [
            "/usr/local/lib/python3.12/dist-packages/onnxruntime/capi/onnxruntime_inference_collection.py:118: UserWarning: Specified provider 'CUDAExecutionProvider' is not in available provider names.Available providers: 'AzureExecutionProvider, CPUExecutionProvider'\n",
            "  warnings.warn(\n",
            "/usr/local/lib/python3.12/dist-packages/onnxruntime/capi/onnxruntime_inference_collection.py:118: UserWarning: Specified provider 'OpenVINOExecutionProvider' is not in available provider names.Available providers: 'AzureExecutionProvider, CPUExecutionProvider'\n",
            "  warnings.warn(\n",
            "/usr/local/lib/python3.12/dist-packages/onnxruntime/capi/onnxruntime_inference_collection.py:118: UserWarning: Specified provider 'CoreMLExecutionProvider' is not in available provider names.Available providers: 'AzureExecutionProvider, CPUExecutionProvider'\n",
            "  warnings.warn(\n"
          ]
        }
      ],
      "source": [
        "model = get_roboflow_model(\n",
        "    model_id=f\"{model_name}/{model_version}\",\n",
        "    api_key=api_key\n",
        ")"
      ]
    },
    {
      "cell_type": "code",
      "execution_count": 15,
      "metadata": {
        "id": "xJTmSJZ4F3ej"
      },
      "outputs": [],
      "source": [
        "def process_video(video_path: str):\n",
        "    cap = cv2.VideoCapture(video_path)\n",
        "    i = 0\n",
        "    while True:\n",
        "        ret, frame = cap.read()\n",
        "        if not ret:\n",
        "            break\n",
        "        results = model.infer(image=frame, confidence=0.7, iou_threshold=0.5)\n",
        "        for prediction in results[0].predictions:\n",
        "            i = i + 1\n",
        "    cap.release()\n",
        "    return i"
      ]
    },
    {
      "cell_type": "code",
      "execution_count": null,
      "metadata": {
        "id": "5sDDu278F4Ra"
      },
      "outputs": [],
      "source": [
        "%%time\n",
        "n = process_video(\"/content/zVzXEht1aME.mp4\")"
      ]
    },
    {
      "cell_type": "code",
      "execution_count": 9,
      "metadata": {
        "colab": {
          "base_uri": "https://localhost:8080/",
          "height": 141
        },
        "id": "EbbphjRqFp9i",
        "outputId": "d446bc29-dae9-4696-af26-abdb0b2ab28d"
      },
      "outputs": [
        {
          "ename": "NameError",
          "evalue": "name 'n' is not defined",
          "output_type": "error",
          "traceback": [
            "\u001b[0;31m---------------------------------------------------------------------------\u001b[0m",
            "\u001b[0;31mNameError\u001b[0m                                 Traceback (most recent call last)",
            "\u001b[0;32m/tmp/ipython-input-2938972457.py\u001b[0m in \u001b[0;36m<cell line: 0>\u001b[0;34m()\u001b[0m\n\u001b[0;32m----> 1\u001b[0;31m \u001b[0mprint\u001b[0m\u001b[0;34m(\u001b[0m\u001b[0mn\u001b[0m\u001b[0;34m)\u001b[0m\u001b[0;34m\u001b[0m\u001b[0;34m\u001b[0m\u001b[0m\n\u001b[0m",
            "\u001b[0;31mNameError\u001b[0m: name 'n' is not defined"
          ]
        }
      ],
      "source": [
        "print(n)"
      ]
    }
  ],
  "metadata": {
    "colab": {
      "provenance": []
    },
    "kernelspec": {
      "display_name": ".venv",
      "language": "python",
      "name": "python3"
    },
    "language_info": {
      "name": "python",
      "version": "3.12.4"
    }
  },
  "nbformat": 4,
  "nbformat_minor": 0
}
